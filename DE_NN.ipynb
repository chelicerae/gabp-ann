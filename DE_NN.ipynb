{
 "cells": [
  {
   "cell_type": "code",
   "execution_count": 208,
   "metadata": {},
   "outputs": [],
   "source": [
    "from keras.models import Sequential\n",
    "from keras.layers import Dense\n",
    "from keras.utils import to_categorical\n",
    "from scipy import optimize as op\n",
    "import pandas as pd\n",
    "import numpy as np"
   ]
  },
  {
   "cell_type": "code",
   "execution_count": 193,
   "metadata": {},
   "outputs": [],
   "source": [
    "# model = Sequential()\n",
    "# model.add(Dense(10, input_dim=4, activation='relu'))\n",
    "# model.add(Dense(3, activation='softmax'))"
   ]
  },
  {
   "cell_type": "code",
   "execution_count": 194,
   "metadata": {},
   "outputs": [],
   "source": [
    "# model.compile(loss='categorical_crossentropy', optimizer='sgd', metrics=['accuracy'])"
   ]
  },
  {
   "cell_type": "code",
   "execution_count": 195,
   "metadata": {},
   "outputs": [],
   "source": [
    "# test = np.arange(70)/100.\n",
    "# theta1 = test[:40] \n",
    "# theta2 = test[40:]\n",
    "\n",
    "# theta1 = theta1.reshape((10, 4))\n",
    "# theta2 = theta2.reshape((3, 10))\n",
    "\n",
    "# dataset.sample(10)"
   ]
  },
  {
   "cell_type": "code",
   "execution_count": 196,
   "metadata": {},
   "outputs": [],
   "source": [
    "dataset = pd.read_csv('iris.data', header=0)\n",
    "dataset['class'] = dataset['class'].map({'Iris-setosa':0, \n",
    "                                         'Iris-versicolor':1, \n",
    "                                         'Iris-virginica':2}).astype(int)\n",
    "X = dataset.as_matrix(['sepal length', \n",
    "                   'sepal width', \n",
    "                   'petal length', \n",
    "                   'petal width'])\n",
    "y = dataset.as_matrix(['class'])\n",
    "y = to_categorical(y)"
   ]
  },
  {
   "cell_type": "code",
   "execution_count": 197,
   "metadata": {},
   "outputs": [],
   "source": [
    "def relu(x):\n",
    "    return x * (x > 0)\n",
    "\n",
    "def softmax(a):\n",
    "    s = np.exp(a - np.max(a))\n",
    "    if a.ndim <3: return s/s.sum(0) \n",
    "\n",
    "def f(theta):\n",
    "    # Reshaping 1D input weights to 2 2D matrix.\n",
    "    theta1 = theta[:40]\n",
    "    theta2 = theta[40:]\n",
    "    theta1 = theta1.reshape((10, 4))\n",
    "    theta2 = theta2.reshape((3, 10))\n",
    "    \n",
    "    # Calculationg the loss via cross entropy.\n",
    "    h = relu(theta1.dot(X.T))\n",
    "    out = softmax(theta2.dot(h))\n",
    "    loss = -np.log((y.T * out).sum(0))\n",
    "    return loss.sum()"
   ]
  },
  {
   "cell_type": "code",
   "execution_count": 198,
   "metadata": {},
   "outputs": [
    {
     "name": "stdout",
     "output_type": "stream",
     "text": [
      "339.2595348630145\n"
     ]
    }
   ],
   "source": [
    "# z = relu(theta1.dot(X.T))\n",
    "# out = softmax(theta2.dot(z))\n",
    "# loss = np.log((y.T * out).sum(0))\n",
    "# res = loss.sum()\n",
    "# print res\n",
    "print f(test)"
   ]
  },
  {
   "cell_type": "code",
   "execution_count": 207,
   "metadata": {},
   "outputs": [
    {
     "data": {
      "text/plain": [
       "     fun: 5.442223586104227\n",
       "     jac: array([-0.16393615, -0.07652341, -0.06116148, -0.01696456,  0.        ,\n",
       "        0.        ,  0.        ,  0.        ,  0.        ,  0.        ,\n",
       "        0.        ,  0.        ,  0.8680777 ,  0.37476182,  1.00422808,\n",
       "        0.15105002, -0.26209666, -0.10197354, -0.23069342, -0.06678986,\n",
       "        0.09525385,  0.16193207,  0.30298786, -0.0882606 ,  0.        ,\n",
       "        0.        ,  0.        ,  0.        ,  4.29558078, -1.74929156,\n",
       "        2.6896795 , -2.77067898,  0.44818513,  0.18478428,  0.34461785,\n",
       "        0.0969699 ,  0.8226726 , -0.07463532,  0.66265509,  0.1571169 ,\n",
       "       -0.02609317,  0.        ,  0.        , -0.05020411, -0.01844667,\n",
       "       -0.03478497,  0.        ,  0.        , -0.07913394, -0.03343974,\n",
       "        0.10035546,  0.        ,  0.        , -0.09064731,  0.64093548,\n",
       "       -0.09540253,  0.        ,  0.1342241 ,  0.55628453, -0.19215722,\n",
       "       -0.07426175,  0.        ,  0.        ,  0.14085177, -0.62248553,\n",
       "        0.13018804,  0.        , -0.13422419, -0.47714934,  0.22559714])\n",
       " message: 'Maximum number of iterations has been exceeded.'\n",
       "    nfev: 52509215\n",
       "     nit: 50000\n",
       " success: False\n",
       "       x: array([ 0.82850905,  0.40072448, -1.16062222,  0.24129967, -0.00901011,\n",
       "       -0.55042084,  0.17620743, -0.35640638,  0.28189825, -0.40337483,\n",
       "       -0.53330681,  0.1720898 ,  1.99998587, -0.0237903 , -1.99372395,\n",
       "       -1.53997806,  1.31316753, -1.85079916,  1.53083946,  1.20376128,\n",
       "        2.        , -1.03966506, -1.78537761, -0.57303334, -0.83020559,\n",
       "        1.2181045 , -0.95560658,  0.32555322, -0.01306465, -0.58740851,\n",
       "       -0.30109983,  2.        ,  1.7863003 ,  1.87352263, -1.2398616 ,\n",
       "       -1.35349408,  0.21784511,  2.        , -1.14411966, -0.96291608,\n",
       "        1.15340453, -0.12331424, -0.68801667,  1.76125887, -1.96991071,\n",
       "        0.88347918,  0.65414193, -0.13644339,  1.44238258,  1.31562074,\n",
       "       -0.95010176, -0.08231172, -0.42752867,  1.66501362,  0.62532375,\n",
       "        1.99714638,  0.73385111, -1.89800158, -0.01269442,  2.        ,\n",
       "       -0.34806914, -1.06161126,  0.13609927, -1.90406267,  1.64843287,\n",
       "       -1.89691344,  1.50997576,  1.82210462, -1.48688357, -2.        ])"
      ]
     },
     "execution_count": 207,
     "metadata": {},
     "output_type": "execute_result"
    }
   ],
   "source": [
    "#print np.exp(-100)\n",
    "bounds = [(-2., 2.)]*70\n",
    "op.differential_evolution(f, bounds, maxiter=50000)"
   ]
  }
 ],
 "metadata": {
  "kernelspec": {
   "display_name": "Python 2",
   "language": "python",
   "name": "python2"
  },
  "language_info": {
   "codemirror_mode": {
    "name": "ipython",
    "version": 2
   },
   "file_extension": ".py",
   "mimetype": "text/x-python",
   "name": "python",
   "nbconvert_exporter": "python",
   "pygments_lexer": "ipython2",
   "version": "2.7.14"
  }
 },
 "nbformat": 4,
 "nbformat_minor": 2
}
