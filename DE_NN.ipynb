{
 "cells": [
  {
   "cell_type": "markdown",
   "metadata": {},
   "source": [
    "# Differential Evolution Neural Network training"
   ]
  },
  {
   "cell_type": "markdown",
   "metadata": {},
   "source": [
    "Using differential evolution to train neural network. The task is basically the problem of optimizing the function of 83 arguments (number depends on architecture), which are the weights and biases of neural network. "
   ]
  },
  {
   "cell_type": "code",
   "execution_count": 33,
   "metadata": {},
   "outputs": [],
   "source": [
    "from keras.utils import to_categorical\n",
    "from scipy import optimize as op\n",
    "import pandas as pd\n",
    "import numpy as np"
   ]
  },
  {
   "cell_type": "code",
   "execution_count": 35,
   "metadata": {},
   "outputs": [
    {
     "data": {
      "text/html": [
       "<div>\n",
       "<style scoped>\n",
       "    .dataframe tbody tr th:only-of-type {\n",
       "        vertical-align: middle;\n",
       "    }\n",
       "\n",
       "    .dataframe tbody tr th {\n",
       "        vertical-align: top;\n",
       "    }\n",
       "\n",
       "    .dataframe thead th {\n",
       "        text-align: right;\n",
       "    }\n",
       "</style>\n",
       "<table border=\"1\" class=\"dataframe\">\n",
       "  <thead>\n",
       "    <tr style=\"text-align: right;\">\n",
       "      <th></th>\n",
       "      <th>sepal length</th>\n",
       "      <th>sepal width</th>\n",
       "      <th>petal length</th>\n",
       "      <th>petal width</th>\n",
       "      <th>class</th>\n",
       "    </tr>\n",
       "  </thead>\n",
       "  <tbody>\n",
       "    <tr>\n",
       "      <th>0</th>\n",
       "      <td>4.9</td>\n",
       "      <td>3.1</td>\n",
       "      <td>1.5</td>\n",
       "      <td>0.1</td>\n",
       "      <td>Iris-setosa</td>\n",
       "    </tr>\n",
       "    <tr>\n",
       "      <th>1</th>\n",
       "      <td>5.7</td>\n",
       "      <td>2.5</td>\n",
       "      <td>5.0</td>\n",
       "      <td>2.0</td>\n",
       "      <td>Iris-virginica</td>\n",
       "    </tr>\n",
       "    <tr>\n",
       "      <th>2</th>\n",
       "      <td>5.8</td>\n",
       "      <td>2.7</td>\n",
       "      <td>5.1</td>\n",
       "      <td>1.9</td>\n",
       "      <td>Iris-virginica</td>\n",
       "    </tr>\n",
       "    <tr>\n",
       "      <th>3</th>\n",
       "      <td>6.5</td>\n",
       "      <td>3.0</td>\n",
       "      <td>5.2</td>\n",
       "      <td>2.0</td>\n",
       "      <td>Iris-virginica</td>\n",
       "    </tr>\n",
       "    <tr>\n",
       "      <th>4</th>\n",
       "      <td>6.4</td>\n",
       "      <td>2.7</td>\n",
       "      <td>5.3</td>\n",
       "      <td>1.9</td>\n",
       "      <td>Iris-virginica</td>\n",
       "    </tr>\n",
       "    <tr>\n",
       "      <th>5</th>\n",
       "      <td>5.0</td>\n",
       "      <td>3.5</td>\n",
       "      <td>1.3</td>\n",
       "      <td>0.3</td>\n",
       "      <td>Iris-setosa</td>\n",
       "    </tr>\n",
       "    <tr>\n",
       "      <th>6</th>\n",
       "      <td>6.4</td>\n",
       "      <td>2.8</td>\n",
       "      <td>5.6</td>\n",
       "      <td>2.2</td>\n",
       "      <td>Iris-virginica</td>\n",
       "    </tr>\n",
       "    <tr>\n",
       "      <th>7</th>\n",
       "      <td>6.3</td>\n",
       "      <td>3.4</td>\n",
       "      <td>5.6</td>\n",
       "      <td>2.4</td>\n",
       "      <td>Iris-virginica</td>\n",
       "    </tr>\n",
       "    <tr>\n",
       "      <th>8</th>\n",
       "      <td>6.2</td>\n",
       "      <td>3.4</td>\n",
       "      <td>5.4</td>\n",
       "      <td>2.3</td>\n",
       "      <td>Iris-virginica</td>\n",
       "    </tr>\n",
       "    <tr>\n",
       "      <th>9</th>\n",
       "      <td>5.6</td>\n",
       "      <td>2.5</td>\n",
       "      <td>3.9</td>\n",
       "      <td>1.1</td>\n",
       "      <td>Iris-versicolor</td>\n",
       "    </tr>\n",
       "  </tbody>\n",
       "</table>\n",
       "</div>"
      ],
      "text/plain": [
       "   sepal length  sepal width  petal length  petal width            class\n",
       "0           4.9          3.1           1.5          0.1      Iris-setosa\n",
       "1           5.7          2.5           5.0          2.0   Iris-virginica\n",
       "2           5.8          2.7           5.1          1.9   Iris-virginica\n",
       "3           6.5          3.0           5.2          2.0   Iris-virginica\n",
       "4           6.4          2.7           5.3          1.9   Iris-virginica\n",
       "5           5.0          3.5           1.3          0.3      Iris-setosa\n",
       "6           6.4          2.8           5.6          2.2   Iris-virginica\n",
       "7           6.3          3.4           5.6          2.4   Iris-virginica\n",
       "8           6.2          3.4           5.4          2.3   Iris-virginica\n",
       "9           5.6          2.5           3.9          1.1  Iris-versicolor"
      ]
     },
     "execution_count": 35,
     "metadata": {},
     "output_type": "execute_result"
    }
   ],
   "source": [
    "# Upload the Iris dataset from file. \n",
    "dataset = pd.read_csv('iris.data', header=0)\n",
    "\n",
    "# Shuffling dataset to split it into train and test set, and avoid high variance.\n",
    "dataset = dataset.sample(frac=1).reset_index(drop=True)\n",
    "dataset.head(10)"
   ]
  },
  {
   "cell_type": "code",
   "execution_count": 36,
   "metadata": {},
   "outputs": [],
   "source": [
    "# Adding bias unit.\n",
    "dataset.insert(0, 'bias', 1)\n",
    "\n",
    "# Mapping class names to numbers.\n",
    "dataset['class'] = dataset['class'].map({'Iris-setosa':0, \n",
    "                                         'Iris-versicolor':1, \n",
    "                                         'Iris-virginica':2}).astype(int)\n",
    "train = dataset[:100]\n",
    "test = dataset[100:]\n",
    "\n",
    "X = train.as_matrix(['bias',\n",
    "                   'sepal length', \n",
    "                   'sepal width', \n",
    "                   'petal length', \n",
    "                   'petal width'])\n",
    "y = train.as_matrix(['class'])\n",
    "y = to_categorical(y)\n",
    "\n",
    "X_test = test.as_matrix(['bias',\n",
    "                   'sepal length', \n",
    "                   'sepal width', \n",
    "                   'petal length', \n",
    "                   'petal width'])\n",
    "y_test = test.as_matrix(['class'])\n",
    "y_test = to_categorical(y_test)"
   ]
  },
  {
   "cell_type": "code",
   "execution_count": 50,
   "metadata": {},
   "outputs": [
    {
     "data": {
      "text/plain": [
       "array([72, 61, 31])"
      ]
     },
     "execution_count": 50,
     "metadata": {},
     "output_type": "execute_result"
    }
   ],
   "source": [
    "np.random.choice(X.shape[0], 3, replace=False)"
   ]
  },
  {
   "cell_type": "code",
   "execution_count": 51,
   "metadata": {},
   "outputs": [],
   "source": [
    "# Defining Rectified Linear Unit, which is used as actiation function here.\n",
    "def relu(x):\n",
    "    return x * (x > 0)\n",
    "\n",
    "# Defining softmax, which is used in the output layer.\n",
    "def softmax(a):\n",
    "    s = np.exp(a - np.max(a))\n",
    "    if a.ndim <3: return s/s.sum(0) \n",
    "\n",
    "# Defining Function to minimize.\n",
    "def f(theta):\n",
    "    # Reshaping 1D input weights to 2 2D matrix.    \n",
    "    theta1 = theta[:40]\n",
    "    bias1 = theta[40:50]\n",
    "    theta2 = theta[50:80]\n",
    "    bias2 = theta[80:]\n",
    "    theta1 = theta1.reshape((10, 4))\n",
    "    theta2 = theta2.reshape((3, 10))\n",
    "    theta1 = np.column_stack((bias1, theta1))\n",
    "    theta2 = np.column_stack((bias2, theta2))\n",
    "    \n",
    "    # Choosing a batch of 3 random samples.\n",
    "    batch_idx = np.random.choice(X.shape[0], 10, replace=False)\n",
    "    x_batch = X[batch_idx]\n",
    "    y_batch = y[batch_idx]\n",
    "    \n",
    "    # Calculationg the loss via cross entropy.\n",
    "    h = relu(theta1.dot(x_batch.T))\n",
    "    h = np.row_stack((np.ones(h.shape[1]), h))\n",
    "    out = softmax(theta2.dot(h))\n",
    "    loss = -np.log((y_batch.T * out).sum(0))\n",
    "    return loss.sum()"
   ]
  },
  {
   "cell_type": "code",
   "execution_count": 52,
   "metadata": {},
   "outputs": [
    {
     "name": "stdout",
     "output_type": "stream",
     "text": [
      "<type 'numpy.ndarray'>\n"
     ]
    },
    {
     "data": {
      "text/plain": [
       "23.155324650957617"
      ]
     },
     "execution_count": 52,
     "metadata": {},
     "output_type": "execute_result"
    }
   ],
   "source": [
    "print type(f_test)\n",
    "f(f_test)"
   ]
  },
  {
   "cell_type": "code",
   "execution_count": 53,
   "metadata": {},
   "outputs": [
    {
     "data": {
      "text/plain": [
       "     fun: 0.0\n",
       " message: 'Maximum number of iterations has been exceeded.'\n",
       "    nfev: 12453009\n",
       "     nit: 10000\n",
       " success: False\n",
       "       x: array([ 1.30848932,  0.81764324,  1.80799548,  0.34838307, -0.07685203,\n",
       "        1.67280683, -0.86301839, -1.0747434 ,  1.79727309, -0.71171146,\n",
       "       -0.01800825, -1.16365216, -1.95096072,  0.62491266,  0.05381063,\n",
       "        1.71313736, -0.39757288, -0.16410246,  1.90997168,  1.96311439,\n",
       "       -1.3600024 , -1.30905888, -0.93432226,  1.01873819,  0.49787334,\n",
       "       -0.97811568, -1.27805269,  1.76423449,  0.73181911,  0.0686799 ,\n",
       "        1.25301359, -1.34329424,  0.38809433, -1.8002075 , -0.88237253,\n",
       "        0.4462813 , -0.45414581,  1.50860079,  1.64726395,  1.59883219,\n",
       "        1.33293314,  0.74163364,  0.59915971, -0.71005133, -0.1129822 ,\n",
       "        1.35726647, -1.35842979,  0.40672924, -0.250284  ,  0.30929123,\n",
       "       -1.46753851,  0.17188682,  0.81539141,  0.18308485, -1.29143111,\n",
       "        1.35951747,  0.43201388, -0.9777995 , -1.04724225, -1.3436225 ,\n",
       "       -0.13290859,  1.71373924, -1.66564308,  0.91921875,  0.06461448,\n",
       "        0.43124176,  0.33629514, -1.24159101,  1.60238144, -0.04673199,\n",
       "        0.46919664,  0.60200841,  0.9215234 , -1.12965767,  0.57210215,\n",
       "        0.62441395, -0.65487776,  1.99847449, -0.09075696,  0.17961145,\n",
       "        0.76963415, -0.41160485,  0.16902859])"
      ]
     },
     "execution_count": 53,
     "metadata": {},
     "output_type": "execute_result"
    }
   ],
   "source": [
    "# bounds = [(-2., 2.)]*70\n",
    "# op.differential_evolution(f, bounds, maxiter=50000)\n",
    "bounds = [(-2., 2.)]*83\n",
    "op.differential_evolution(f, bounds, maxiter=10000)"
   ]
  },
  {
   "cell_type": "code",
   "execution_count": null,
   "metadata": {},
   "outputs": [],
   "source": []
  }
 ],
 "metadata": {
  "kernelspec": {
   "display_name": "Python 2",
   "language": "python",
   "name": "python2"
  },
  "language_info": {
   "codemirror_mode": {
    "name": "ipython",
    "version": 2
   },
   "file_extension": ".py",
   "mimetype": "text/x-python",
   "name": "python",
   "nbconvert_exporter": "python",
   "pygments_lexer": "ipython2",
   "version": "2.7.14"
  }
 },
 "nbformat": 4,
 "nbformat_minor": 2
}
