{
 "cells": [
  {
   "cell_type": "markdown",
   "metadata": {},
   "source": [
    "# Differential Evolution Neural Network training"
   ]
  },
  {
   "cell_type": "markdown",
   "metadata": {},
   "source": [
    "Using differential evolution to train neural network. The task is basically the problem of optimizing the function of 83 arguments (number depends on architecture), which are the weights and biases of neural network. "
   ]
  },
  {
   "cell_type": "code",
   "execution_count": 33,
   "metadata": {},
   "outputs": [],
   "source": [
    "from keras.utils import to_categorical\n",
    "from scipy import optimize as op\n",
    "import pandas as pd\n",
    "import numpy as np"
   ]
  },
  {
   "cell_type": "code",
   "execution_count": 35,
   "metadata": {},
   "outputs": [
    {
     "data": {
      "text/html": [
       "<div>\n",
       "<style scoped>\n",
       "    .dataframe tbody tr th:only-of-type {\n",
       "        vertical-align: middle;\n",
       "    }\n",
       "\n",
       "    .dataframe tbody tr th {\n",
       "        vertical-align: top;\n",
       "    }\n",
       "\n",
       "    .dataframe thead th {\n",
       "        text-align: right;\n",
       "    }\n",
       "</style>\n",
       "<table border=\"1\" class=\"dataframe\">\n",
       "  <thead>\n",
       "    <tr style=\"text-align: right;\">\n",
       "      <th></th>\n",
       "      <th>sepal length</th>\n",
       "      <th>sepal width</th>\n",
       "      <th>petal length</th>\n",
       "      <th>petal width</th>\n",
       "      <th>class</th>\n",
       "    </tr>\n",
       "  </thead>\n",
       "  <tbody>\n",
       "    <tr>\n",
       "      <th>0</th>\n",
       "      <td>4.9</td>\n",
       "      <td>3.1</td>\n",
       "      <td>1.5</td>\n",
       "      <td>0.1</td>\n",
       "      <td>Iris-setosa</td>\n",
       "    </tr>\n",
       "    <tr>\n",
       "      <th>1</th>\n",
       "      <td>5.7</td>\n",
       "      <td>2.5</td>\n",
       "      <td>5.0</td>\n",
       "      <td>2.0</td>\n",
       "      <td>Iris-virginica</td>\n",
       "    </tr>\n",
       "    <tr>\n",
       "      <th>2</th>\n",
       "      <td>5.8</td>\n",
       "      <td>2.7</td>\n",
       "      <td>5.1</td>\n",
       "      <td>1.9</td>\n",
       "      <td>Iris-virginica</td>\n",
       "    </tr>\n",
       "    <tr>\n",
       "      <th>3</th>\n",
       "      <td>6.5</td>\n",
       "      <td>3.0</td>\n",
       "      <td>5.2</td>\n",
       "      <td>2.0</td>\n",
       "      <td>Iris-virginica</td>\n",
       "    </tr>\n",
       "    <tr>\n",
       "      <th>4</th>\n",
       "      <td>6.4</td>\n",
       "      <td>2.7</td>\n",
       "      <td>5.3</td>\n",
       "      <td>1.9</td>\n",
       "      <td>Iris-virginica</td>\n",
       "    </tr>\n",
       "    <tr>\n",
       "      <th>5</th>\n",
       "      <td>5.0</td>\n",
       "      <td>3.5</td>\n",
       "      <td>1.3</td>\n",
       "      <td>0.3</td>\n",
       "      <td>Iris-setosa</td>\n",
       "    </tr>\n",
       "    <tr>\n",
       "      <th>6</th>\n",
       "      <td>6.4</td>\n",
       "      <td>2.8</td>\n",
       "      <td>5.6</td>\n",
       "      <td>2.2</td>\n",
       "      <td>Iris-virginica</td>\n",
       "    </tr>\n",
       "    <tr>\n",
       "      <th>7</th>\n",
       "      <td>6.3</td>\n",
       "      <td>3.4</td>\n",
       "      <td>5.6</td>\n",
       "      <td>2.4</td>\n",
       "      <td>Iris-virginica</td>\n",
       "    </tr>\n",
       "    <tr>\n",
       "      <th>8</th>\n",
       "      <td>6.2</td>\n",
       "      <td>3.4</td>\n",
       "      <td>5.4</td>\n",
       "      <td>2.3</td>\n",
       "      <td>Iris-virginica</td>\n",
       "    </tr>\n",
       "    <tr>\n",
       "      <th>9</th>\n",
       "      <td>5.6</td>\n",
       "      <td>2.5</td>\n",
       "      <td>3.9</td>\n",
       "      <td>1.1</td>\n",
       "      <td>Iris-versicolor</td>\n",
       "    </tr>\n",
       "  </tbody>\n",
       "</table>\n",
       "</div>"
      ],
      "text/plain": [
       "   sepal length  sepal width  petal length  petal width            class\n",
       "0           4.9          3.1           1.5          0.1      Iris-setosa\n",
       "1           5.7          2.5           5.0          2.0   Iris-virginica\n",
       "2           5.8          2.7           5.1          1.9   Iris-virginica\n",
       "3           6.5          3.0           5.2          2.0   Iris-virginica\n",
       "4           6.4          2.7           5.3          1.9   Iris-virginica\n",
       "5           5.0          3.5           1.3          0.3      Iris-setosa\n",
       "6           6.4          2.8           5.6          2.2   Iris-virginica\n",
       "7           6.3          3.4           5.6          2.4   Iris-virginica\n",
       "8           6.2          3.4           5.4          2.3   Iris-virginica\n",
       "9           5.6          2.5           3.9          1.1  Iris-versicolor"
      ]
     },
     "execution_count": 35,
     "metadata": {},
     "output_type": "execute_result"
    }
   ],
   "source": [
    "# Upload the Iris dataset from file. \n",
    "dataset = pd.read_csv('iris.data', header=0)\n",
    "\n",
    "# Shuffling dataset to split it into train and test set, and avoid high variance.\n",
    "dataset = dataset.sample(frac=1).reset_index(drop=True)\n",
    "dataset.head(10)"
   ]
  },
  {
   "cell_type": "code",
   "execution_count": 36,
   "metadata": {},
   "outputs": [],
   "source": [
    "# Adding bias unit.\n",
    "dataset.insert(0, 'bias', 1)\n",
    "\n",
    "# Mapping class names to numbers.\n",
    "dataset['class'] = dataset['class'].map({'Iris-setosa':0, \n",
    "                                         'Iris-versicolor':1, \n",
    "                                         'Iris-virginica':2}).astype(int)\n",
    "train = dataset[:100]\n",
    "test = dataset[100:]\n",
    "\n",
    "X = train.as_matrix(['bias',\n",
    "                   'sepal length', \n",
    "                   'sepal width', \n",
    "                   'petal length', \n",
    "                   'petal width'])\n",
    "y = train.as_matrix(['class'])\n",
    "y = to_categorical(y)\n",
    "\n",
    "X_test = test.as_matrix(['bias',\n",
    "                   'sepal length', \n",
    "                   'sepal width', \n",
    "                   'petal length', \n",
    "                   'petal width'])\n",
    "y_test = test.as_matrix(['class'])\n",
    "y_test = to_categorical(y_test)"
   ]
  },
  {
   "cell_type": "code",
   "execution_count": 50,
   "metadata": {},
   "outputs": [
    {
     "data": {
      "text/plain": [
       "array([72, 61, 31])"
      ]
     },
     "execution_count": 50,
     "metadata": {},
     "output_type": "execute_result"
    }
   ],
   "source": [
    "np.random.choice(X.shape[0], 3, replace=False)"
   ]
  },
  {
   "cell_type": "code",
   "execution_count": 48,
   "metadata": {},
   "outputs": [],
   "source": [
    "# Defining Rectified Linear Unit, which is used as actiation function here.\n",
    "def relu(x):\n",
    "    return x * (x > 0)\n",
    "\n",
    "# Defining softmax, which is used in the output layer.\n",
    "def softmax(a):\n",
    "    s = np.exp(a - np.max(a))\n",
    "    if a.ndim <3: return s/s.sum(0) \n",
    "\n",
    "# Defining Function to minimize.\n",
    "def f(theta):\n",
    "    # Reshaping 1D input weights to 2 2D matrix.    \n",
    "    theta1 = theta[:40]\n",
    "    bias1 = theta[40:50]\n",
    "    theta2 = theta[50:80]\n",
    "    bias2 = theta[80:]\n",
    "    theta1 = theta1.reshape((10, 4))\n",
    "    theta2 = theta2.reshape((3, 10))\n",
    "    theta1 = np.column_stack((bias1, theta1))\n",
    "    theta2 = np.column_stack((bias2, theta2))\n",
    "    \n",
    "    # Choosing a batch of 3 random samples.\n",
    "    batch_idx = np.random.choice(X.shape[0], 10, replace=False)\n",
    "    x_batch = X[batch_idx]\n",
    "    y_batch\n",
    "    \n",
    "    # Calculationg the loss via cross entropy.\n",
    "    h = relu(theta1.dot(x_batch.T))\n",
    "    h = np.row_stack((np.ones(h.shape[1]), h))\n",
    "    out = softmax(theta2.dot(h))\n",
    "    loss = -np.log((y_batch.T * out).sum(0))\n",
    "    return loss.sum()"
   ]
  },
  {
   "cell_type": "code",
   "execution_count": 49,
   "metadata": {},
   "outputs": [
    {
     "name": "stdout",
     "output_type": "stream",
     "text": [
      "<type 'numpy.ndarray'>\n"
     ]
    },
    {
     "ename": "ValueError",
     "evalue": "operands could not be broadcast together with shapes (3,100) (3,10) ",
     "output_type": "error",
     "traceback": [
      "\u001b[0;31m---------------------------------------------------------------------------\u001b[0m",
      "\u001b[0;31mValueError\u001b[0m                                Traceback (most recent call last)",
      "\u001b[0;32m<ipython-input-49-832ba1788f6c>\u001b[0m in \u001b[0;36m<module>\u001b[0;34m()\u001b[0m\n\u001b[1;32m      1\u001b[0m \u001b[0;32mprint\u001b[0m \u001b[0mtype\u001b[0m\u001b[0;34m(\u001b[0m\u001b[0mf_test\u001b[0m\u001b[0;34m)\u001b[0m\u001b[0;34m\u001b[0m\u001b[0m\n\u001b[0;32m----> 2\u001b[0;31m \u001b[0mf\u001b[0m\u001b[0;34m(\u001b[0m\u001b[0mf_test\u001b[0m\u001b[0;34m)\u001b[0m\u001b[0;34m\u001b[0m\u001b[0m\n\u001b[0m",
      "\u001b[0;32m<ipython-input-48-33bade15294b>\u001b[0m in \u001b[0;36mf\u001b[0;34m(theta)\u001b[0m\n\u001b[1;32m     27\u001b[0m     \u001b[0mh\u001b[0m \u001b[0;34m=\u001b[0m \u001b[0mnp\u001b[0m\u001b[0;34m.\u001b[0m\u001b[0mrow_stack\u001b[0m\u001b[0;34m(\u001b[0m\u001b[0;34m(\u001b[0m\u001b[0mnp\u001b[0m\u001b[0;34m.\u001b[0m\u001b[0mones\u001b[0m\u001b[0;34m(\u001b[0m\u001b[0mh\u001b[0m\u001b[0;34m.\u001b[0m\u001b[0mshape\u001b[0m\u001b[0;34m[\u001b[0m\u001b[0;36m1\u001b[0m\u001b[0;34m]\u001b[0m\u001b[0;34m)\u001b[0m\u001b[0;34m,\u001b[0m \u001b[0mh\u001b[0m\u001b[0;34m)\u001b[0m\u001b[0;34m)\u001b[0m\u001b[0;34m\u001b[0m\u001b[0m\n\u001b[1;32m     28\u001b[0m     \u001b[0mout\u001b[0m \u001b[0;34m=\u001b[0m \u001b[0msoftmax\u001b[0m\u001b[0;34m(\u001b[0m\u001b[0mtheta2\u001b[0m\u001b[0;34m.\u001b[0m\u001b[0mdot\u001b[0m\u001b[0;34m(\u001b[0m\u001b[0mh\u001b[0m\u001b[0;34m)\u001b[0m\u001b[0;34m)\u001b[0m\u001b[0;34m\u001b[0m\u001b[0m\n\u001b[0;32m---> 29\u001b[0;31m     \u001b[0mloss\u001b[0m \u001b[0;34m=\u001b[0m \u001b[0;34m-\u001b[0m\u001b[0mnp\u001b[0m\u001b[0;34m.\u001b[0m\u001b[0mlog\u001b[0m\u001b[0;34m(\u001b[0m\u001b[0;34m(\u001b[0m\u001b[0my\u001b[0m\u001b[0;34m.\u001b[0m\u001b[0mT\u001b[0m \u001b[0;34m*\u001b[0m \u001b[0mout\u001b[0m\u001b[0;34m)\u001b[0m\u001b[0;34m.\u001b[0m\u001b[0msum\u001b[0m\u001b[0;34m(\u001b[0m\u001b[0;36m0\u001b[0m\u001b[0;34m)\u001b[0m\u001b[0;34m)\u001b[0m\u001b[0;34m\u001b[0m\u001b[0m\n\u001b[0m\u001b[1;32m     30\u001b[0m     \u001b[0;32mreturn\u001b[0m \u001b[0mloss\u001b[0m\u001b[0;34m.\u001b[0m\u001b[0msum\u001b[0m\u001b[0;34m(\u001b[0m\u001b[0;34m)\u001b[0m\u001b[0;34m\u001b[0m\u001b[0m\n",
      "\u001b[0;31mValueError\u001b[0m: operands could not be broadcast together with shapes (3,100) (3,10) "
     ]
    }
   ],
   "source": [
    "print type(f_test)\n",
    "f(f_test)"
   ]
  },
  {
   "cell_type": "code",
   "execution_count": 46,
   "metadata": {},
   "outputs": [
    {
     "data": {
      "text/plain": [
       "     fun: 4.758891322404432\n",
       "     jac: array([ 0.00000000e+00,  0.00000000e+00,  0.00000000e+00,  0.00000000e+00,\n",
       "        4.02050837e-02,  2.92593327e-01,  1.69106062e-01,  3.85239396e-02,\n",
       "        4.78100226e-02, -1.72314873e-01, -6.63834321e-02, -6.99102998e-03,\n",
       "       -1.12153309e-01,  5.72668579e-01,  2.42328024e-01,  3.34947181e-02,\n",
       "        8.94559093e-02, -1.89144167e-01, -6.28975982e-02, -3.05586667e-03,\n",
       "       -6.01767525e-03, -4.33436398e-01, -2.25637287e-01, -4.53131754e-02,\n",
       "        8.57699520e+00,  3.56915848e+00,  6.25917256e+00,  1.38730165e+00,\n",
       "        0.00000000e+00,  0.00000000e+00,  0.00000000e+00,  0.00000000e+00,\n",
       "        0.00000000e+00,  0.00000000e+00,  0.00000000e+00,  0.00000000e+00,\n",
       "       -1.52698298e-02,  4.10244017e-01,  2.03825490e-01,  3.82829768e-02,\n",
       "        0.00000000e+00,  3.06670245e-03,  1.18228094e-02, -3.03838732e-02,\n",
       "        2.04297024e-02,  5.66355851e-03,  4.24589874e-01,  0.00000000e+00,\n",
       "        0.00000000e+00, -9.35962419e-03,  0.00000000e+00,  2.69570144e-02,\n",
       "        3.37564643e-02,  4.91654717e-02,  9.75486358e-03,  9.58767288e-02,\n",
       "        1.79234405e-04,  0.00000000e+00,  0.00000000e+00,  4.24265068e-02,\n",
       "        0.00000000e+00, -3.63165498e-02, -2.26650698e-02, -1.97251460e-01,\n",
       "        7.18540782e-02, -2.24618635e-01, -8.62439009e-03,  0.00000000e+00,\n",
       "        0.00000000e+00,  3.65166564e-02,  0.00000000e+00,  9.35846955e-03,\n",
       "       -1.10925491e-02,  1.48086343e-01, -8.16086754e-02,  1.28744571e-01,\n",
       "        8.44497805e-03,  0.00000000e+00,  0.00000000e+00, -7.89437848e-02,\n",
       "        8.65432170e-03, -1.35251810e-02,  4.87032636e-03])\n",
       " message: 'Maximum number of iterations has been exceeded.'\n",
       "    nfev: 6231873\n",
       "     nit: 5000\n",
       " success: False\n",
       "       x: array([-0.12129605, -1.52853405,  0.19080951, -0.24911903,  1.26105855,\n",
       "        1.03348761, -1.74095598, -1.16912224,  1.82870315,  1.13246097,\n",
       "       -1.92250512, -0.29562043,  1.272132  , -0.88395889,  0.41502269,\n",
       "       -1.62145995, -0.23940828,  0.12258842,  0.5943558 ,  0.96140391,\n",
       "        1.43295031, -1.69399583,  1.67231008,  1.58961642, -1.99320226,\n",
       "        1.92954028,  1.13961794,  0.12091686, -1.26790324,  0.71803368,\n",
       "        0.0305413 , -0.45685277, -1.39528121, -1.61745956, -0.77749755,\n",
       "       -1.11405011,  1.32369548,  1.48570256, -1.38574018, -1.6245386 ,\n",
       "       -0.43699971,  2.        , -1.12535292,  1.69962718, -1.24650415,\n",
       "       -1.20377956,  1.1610347 , -0.61618357,  0.2382405 ,  1.6396031 ,\n",
       "       -1.99745678,  1.10535453,  1.37851962,  0.74019612,  0.64990188,\n",
       "       -1.6639427 , -0.08798229,  1.72918302,  0.70704046,  1.31502347,\n",
       "       -1.10791639, -0.23961386,  0.71266012,  2.        , -0.51581491,\n",
       "       -0.76351852,  1.5590716 , -0.99454865,  0.53418471,  0.89040827,\n",
       "        0.74428609, -2.        ,  1.95709056, -1.99993718,  0.97621155,\n",
       "        1.99979467, -2.        , -1.26537603, -1.10784762, -1.78597337,\n",
       "       -1.5542085 ,  1.47093082, -0.86410135])"
      ]
     },
     "execution_count": 46,
     "metadata": {},
     "output_type": "execute_result"
    }
   ],
   "source": [
    "# bounds = [(-2., 2.)]*70\n",
    "# op.differential_evolution(f, bounds, maxiter=50000)\n",
    "bounds = [(-2., 2.)]*83\n",
    "op.differential_evolution(f, bounds, maxiter=10000)"
   ]
  },
  {
   "cell_type": "code",
   "execution_count": null,
   "metadata": {},
   "outputs": [],
   "source": []
  }
 ],
 "metadata": {
  "kernelspec": {
   "display_name": "Python 2",
   "language": "python",
   "name": "python2"
  },
  "language_info": {
   "codemirror_mode": {
    "name": "ipython",
    "version": 2
   },
   "file_extension": ".py",
   "mimetype": "text/x-python",
   "name": "python",
   "nbconvert_exporter": "python",
   "pygments_lexer": "ipython2",
   "version": "2.7.14"
  }
 },
 "nbformat": 4,
 "nbformat_minor": 2
}
